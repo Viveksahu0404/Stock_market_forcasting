
  {
   "cell_type": "code",
   "execution_count": 11,
   "id": "2e1db493",
   "metadata": {},
   "outputs": [],
   "source": [
    "from sklearn.preprocessing import MinMaxScaler\n",
    "from tensorflow.keras.models import Sequential\n",
    "from tensorflow.keras.layers import Dense\n",
    "from tensorflow.keras.layers import LSTM\n",
    "from sklearn.metrics import mean_squared_error\n",
    "import matplotlib.pyplot as plt\n",
    "import seaborn as sns\n",
    "import warnings \n",
    "import pandas as pd\n",
    "import numpy as np\n",
    "import math \n",
    "warnings.filterwarnings('ignore')"
   ]
  },
  {
   "cell_type": "code",
   "execution_count": 12,
   "id": "3f5a3a0c",
   "metadata": {},
   "outputs": [
    {
     "data": {
      "text/html": [
       "<div>\n",
       "<style scoped>\n",
       "    .dataframe tbody tr th:only-of-type {\n",
       "        vertical-align: middle;\n",
       "    }\n",
       "\n",
       "    .dataframe tbody tr th {\n",
       "        vertical-align: top;\n",
       "    }\n",
       "\n",
       "    .dataframe thead th {\n",
       "        text-align: right;\n",
       "    }\n",
       "</style>\n",
       "<table border=\"1\" class=\"dataframe\">\n",
       "  <thead>\n",
       "    <tr style=\"text-align: right;\">\n",
       "      <th></th>\n",
       "      <th>Date</th>\n",
       "      <th>Open</th>\n",
       "      <th>High</th>\n",
       "      <th>Low</th>\n",
       "      <th>Last</th>\n",
       "      <th>Close</th>\n",
       "      <th>Total Trade Quantity</th>\n",
       "      <th>Turnover (Lacs)</th>\n",
       "    </tr>\n",
       "  </thead>\n",
       "  <tbody>\n",
       "    <tr>\n",
       "      <th>0</th>\n",
       "      <td>2018-09-28</td>\n",
       "      <td>234.05</td>\n",
       "      <td>235.95</td>\n",
       "      <td>230.20</td>\n",
       "      <td>233.50</td>\n",
       "      <td>233.75</td>\n",
       "      <td>3069914</td>\n",
       "      <td>7162.35</td>\n",
       "    </tr>\n",
       "    <tr>\n",
       "      <th>1</th>\n",
       "      <td>2018-09-27</td>\n",
       "      <td>234.55</td>\n",
       "      <td>236.80</td>\n",
       "      <td>231.10</td>\n",
       "      <td>233.80</td>\n",
       "      <td>233.25</td>\n",
       "      <td>5082859</td>\n",
       "      <td>11859.95</td>\n",
       "    </tr>\n",
       "    <tr>\n",
       "      <th>2</th>\n",
       "      <td>2018-09-26</td>\n",
       "      <td>240.00</td>\n",
       "      <td>240.00</td>\n",
       "      <td>232.50</td>\n",
       "      <td>235.00</td>\n",
       "      <td>234.25</td>\n",
       "      <td>2240909</td>\n",
       "      <td>5248.60</td>\n",
       "    </tr>\n",
       "    <tr>\n",
       "      <th>3</th>\n",
       "      <td>2018-09-25</td>\n",
       "      <td>233.30</td>\n",
       "      <td>236.75</td>\n",
       "      <td>232.00</td>\n",
       "      <td>236.25</td>\n",
       "      <td>236.10</td>\n",
       "      <td>2349368</td>\n",
       "      <td>5503.90</td>\n",
       "    </tr>\n",
       "    <tr>\n",
       "      <th>4</th>\n",
       "      <td>2018-09-24</td>\n",
       "      <td>233.55</td>\n",
       "      <td>239.20</td>\n",
       "      <td>230.75</td>\n",
       "      <td>234.00</td>\n",
       "      <td>233.30</td>\n",
       "      <td>3423509</td>\n",
       "      <td>7999.55</td>\n",
       "    </tr>\n",
       "  </tbody>\n",
       "</table>\n",
       "</div>"
      ],
      "text/plain": [
       "         Date    Open    High     Low    Last   Close  Total Trade Quantity  \\\n",
       "0  2018-09-28  234.05  235.95  230.20  233.50  233.75               3069914   \n",
       "1  2018-09-27  234.55  236.80  231.10  233.80  233.25               5082859   \n",
       "2  2018-09-26  240.00  240.00  232.50  235.00  234.25               2240909   \n",
       "3  2018-09-25  233.30  236.75  232.00  236.25  236.10               2349368   \n",
       "4  2018-09-24  233.55  239.20  230.75  234.00  233.30               3423509   \n",
       "\n",
       "   Turnover (Lacs)  \n",
       "0          7162.35  \n",
       "1         11859.95  \n",
       "2          5248.60  \n",
       "3          5503.90  \n",
       "4          7999.55  "
      ]
     },
     "execution_count": 12,
     "metadata": {},
     "output_type": "execute_result"
    }
   ],
   "source": [
    "d = pd.read_csv('https://raw.githubusercontent.com/mwitiderrick/stockprice/master/NSE-TATAGLOBAL.csv')\n",
    "d.head()"
   ]
  },
  {
   "cell_type": "code",
   "execution_count": 13,
   "id": "c33679a9",
   "metadata": {},
   "outputs": [
    {
     "name": "stdout",
     "output_type": "stream",
     "text": [
      "<class 'pandas.core.frame.DataFrame'>\n",
      "RangeIndex: 2035 entries, 0 to 2034\n",
      "Data columns (total 8 columns):\n",
      " #   Column                Non-Null Count  Dtype  \n",
      "---  ------                --------------  -----  \n",
      " 0   Date                  2035 non-null   object \n",
      " 1   Open                  2035 non-null   float64\n",
      " 2   High                  2035 non-null   float64\n",
      " 3   Low                   2035 non-null   float64\n",
      " 4   Last                  2035 non-null   float64\n",
      " 5   Close                 2035 non-null   float64\n",
      " 6   Total Trade Quantity  2035 non-null   int64  \n",
      " 7   Turnover (Lacs)       2035 non-null   float64\n",
      "dtypes: float64(6), int64(1), object(1)\n",
      "memory usage: 127.3+ KB\n"
     ]
    }
   ],
   "source": [
    "d.info()"
   ]
  },
  {
   "cell_type": "code",
   "execution_count": 14,
   "id": "ecea46f3",
   "metadata": {},
   "outputs": [
    {
     "data": {
      "text/html": [
       "<div>\n",
       "<style scoped>\n",
       "    .dataframe tbody tr th:only-of-type {\n",
       "        vertical-align: middle;\n",
       "    }\n",
       "\n",
       "    .dataframe tbody tr th {\n",
       "        vertical-align: top;\n",
       "    }\n",
       "\n",
       "    .dataframe thead th {\n",
       "        text-align: right;\n",
       "    }\n",
       "</style>\n",
       "<table border=\"1\" class=\"dataframe\">\n",
       "  <thead>\n",
       "    <tr style=\"text-align: right;\">\n",
       "      <th></th>\n",
       "      <th>Open</th>\n",
       "      <th>High</th>\n",
       "      <th>Low</th>\n",
       "      <th>Last</th>\n",
       "      <th>Close</th>\n",
       "      <th>Total Trade Quantity</th>\n",
       "      <th>Turnover (Lacs)</th>\n",
       "    </tr>\n",
       "  </thead>\n",
       "  <tbody>\n",
       "    <tr>\n",
       "      <th>count</th>\n",
       "      <td>2035.000000</td>\n",
       "      <td>2035.000000</td>\n",
       "      <td>2035.000000</td>\n",
       "      <td>2035.000000</td>\n",
       "      <td>2035.00000</td>\n",
       "      <td>2.035000e+03</td>\n",
       "      <td>2035.000000</td>\n",
       "    </tr>\n",
       "    <tr>\n",
       "      <th>mean</th>\n",
       "      <td>149.713735</td>\n",
       "      <td>151.992826</td>\n",
       "      <td>147.293931</td>\n",
       "      <td>149.474251</td>\n",
       "      <td>149.45027</td>\n",
       "      <td>2.335681e+06</td>\n",
       "      <td>3899.980565</td>\n",
       "    </tr>\n",
       "    <tr>\n",
       "      <th>std</th>\n",
       "      <td>48.664509</td>\n",
       "      <td>49.413109</td>\n",
       "      <td>47.931958</td>\n",
       "      <td>48.732570</td>\n",
       "      <td>48.71204</td>\n",
       "      <td>2.091778e+06</td>\n",
       "      <td>4570.767877</td>\n",
       "    </tr>\n",
       "    <tr>\n",
       "      <th>min</th>\n",
       "      <td>81.100000</td>\n",
       "      <td>82.800000</td>\n",
       "      <td>80.000000</td>\n",
       "      <td>81.000000</td>\n",
       "      <td>80.95000</td>\n",
       "      <td>3.961000e+04</td>\n",
       "      <td>37.040000</td>\n",
       "    </tr>\n",
       "    <tr>\n",
       "      <th>25%</th>\n",
       "      <td>120.025000</td>\n",
       "      <td>122.100000</td>\n",
       "      <td>118.300000</td>\n",
       "      <td>120.075000</td>\n",
       "      <td>120.05000</td>\n",
       "      <td>1.146444e+06</td>\n",
       "      <td>1427.460000</td>\n",
       "    </tr>\n",
       "    <tr>\n",
       "      <th>50%</th>\n",
       "      <td>141.500000</td>\n",
       "      <td>143.400000</td>\n",
       "      <td>139.600000</td>\n",
       "      <td>141.100000</td>\n",
       "      <td>141.25000</td>\n",
       "      <td>1.783456e+06</td>\n",
       "      <td>2512.030000</td>\n",
       "    </tr>\n",
       "    <tr>\n",
       "      <th>75%</th>\n",
       "      <td>157.175000</td>\n",
       "      <td>159.400000</td>\n",
       "      <td>155.150000</td>\n",
       "      <td>156.925000</td>\n",
       "      <td>156.90000</td>\n",
       "      <td>2.813594e+06</td>\n",
       "      <td>4539.015000</td>\n",
       "    </tr>\n",
       "    <tr>\n",
       "      <th>max</th>\n",
       "      <td>327.700000</td>\n",
       "      <td>328.750000</td>\n",
       "      <td>321.650000</td>\n",
       "      <td>325.950000</td>\n",
       "      <td>325.75000</td>\n",
       "      <td>2.919102e+07</td>\n",
       "      <td>55755.080000</td>\n",
       "    </tr>\n",
       "  </tbody>\n",
       "</table>\n",
       "</div>"
      ],
      "text/plain": [
       "              Open         High          Low         Last       Close  \\\n",
       "count  2035.000000  2035.000000  2035.000000  2035.000000  2035.00000   \n",
       "mean    149.713735   151.992826   147.293931   149.474251   149.45027   \n",
       "std      48.664509    49.413109    47.931958    48.732570    48.71204   \n",
       "min      81.100000    82.800000    80.000000    81.000000    80.95000   \n",
       "25%     120.025000   122.100000   118.300000   120.075000   120.05000   \n",
       "50%     141.500000   143.400000   139.600000   141.100000   141.25000   \n",
       "75%     157.175000   159.400000   155.150000   156.925000   156.90000   \n",
       "max     327.700000   328.750000   321.650000   325.950000   325.75000   \n",
       "\n",
       "       Total Trade Quantity  Turnover (Lacs)  \n",
       "count          2.035000e+03      2035.000000  \n",
       "mean           2.335681e+06      3899.980565  \n",
       "std            2.091778e+06      4570.767877  \n",
       "min            3.961000e+04        37.040000  \n",
       "25%            1.146444e+06      1427.460000  \n",
       "50%            1.783456e+06      2512.030000  \n",
       "75%            2.813594e+06      4539.015000  \n",
       "max            2.919102e+07     55755.080000  "
      ]
     },
     "execution_count": 14,
     "metadata": {},
     "output_type": "execute_result"
    }
   ],
   "source": [
    "d.describe()"
   ]
  },
  {
   "cell_type": "code",
   "execution_count": 15,
   "id": "468016c4",
   "metadata": {},
   "outputs": [
    {
     "data": {
      "text/plain": [
       "Date                    datetime64[ns]\n",
       "Open                           float64\n",
       "High                           float64\n",
       "Low                            float64\n",
       "Last                           float64\n",
       "Close                          float64\n",
       "Total Trade Quantity             int64\n",
       "Turnover (Lacs)                float64\n",
       "dtype: object"
      ]
     },
     "execution_count": 15,
     "metadata": {},
     "output_type": "execute_result"
    }
   ],
   "source": [
    "d['Date'] = pd.to_datetime(d['Date'])\n",
    "d.dtypes"
   ]
  },
  {
   "cell_type": "code",
   "execution_count": 16,
   "id": "ab70ee10",
   "metadata": {},
   "outputs": [
    {
     "data": {
      "text/html": [
       "<div>\n",
       "<style scoped>\n",
       "    .dataframe tbody tr th:only-of-type {\n",
       "        vertical-align: middle;\n",
       "    }\n",
       "\n",
       "    .dataframe tbody tr th {\n",
       "        vertical-align: top;\n",
       "    }\n",
       "\n",
       "    .dataframe thead th {\n",
       "        text-align: right;\n",
       "    }\n",
       "</style>\n",
       "<table border=\"1\" class=\"dataframe\">\n",
       "  <thead>\n",
       "    <tr style=\"text-align: right;\">\n",
       "      <th></th>\n",
       "      <th>Date</th>\n",
       "      <th>Open</th>\n",
       "      <th>High</th>\n",
       "      <th>Low</th>\n",
       "      <th>Last</th>\n",
       "      <th>Close</th>\n",
       "      <th>Total Trade Quantity</th>\n",
       "      <th>Turnover (Lacs)</th>\n",
       "    </tr>\n",
       "  </thead>\n",
       "  <tbody>\n",
       "    <tr>\n",
       "      <th>2034</th>\n",
       "      <td>2010-07-21</td>\n",
       "      <td>122.1</td>\n",
       "      <td>123.00</td>\n",
       "      <td>121.05</td>\n",
       "      <td>121.10</td>\n",
       "      <td>121.55</td>\n",
       "      <td>658666</td>\n",
       "      <td>803.56</td>\n",
       "    </tr>\n",
       "    <tr>\n",
       "      <th>2033</th>\n",
       "      <td>2010-07-22</td>\n",
       "      <td>120.3</td>\n",
       "      <td>122.00</td>\n",
       "      <td>120.25</td>\n",
       "      <td>120.75</td>\n",
       "      <td>120.90</td>\n",
       "      <td>293312</td>\n",
       "      <td>355.17</td>\n",
       "    </tr>\n",
       "    <tr>\n",
       "      <th>2032</th>\n",
       "      <td>2010-07-23</td>\n",
       "      <td>121.8</td>\n",
       "      <td>121.95</td>\n",
       "      <td>120.25</td>\n",
       "      <td>120.35</td>\n",
       "      <td>120.65</td>\n",
       "      <td>281312</td>\n",
       "      <td>340.31</td>\n",
       "    </tr>\n",
       "    <tr>\n",
       "      <th>2031</th>\n",
       "      <td>2010-07-26</td>\n",
       "      <td>120.1</td>\n",
       "      <td>121.00</td>\n",
       "      <td>117.10</td>\n",
       "      <td>117.10</td>\n",
       "      <td>117.60</td>\n",
       "      <td>658440</td>\n",
       "      <td>780.01</td>\n",
       "    </tr>\n",
       "    <tr>\n",
       "      <th>2030</th>\n",
       "      <td>2010-07-27</td>\n",
       "      <td>117.6</td>\n",
       "      <td>119.50</td>\n",
       "      <td>112.00</td>\n",
       "      <td>118.80</td>\n",
       "      <td>118.65</td>\n",
       "      <td>586100</td>\n",
       "      <td>694.98</td>\n",
       "    </tr>\n",
       "  </tbody>\n",
       "</table>\n",
       "</div>"
      ],
      "text/plain": [
       "           Date   Open    High     Low    Last   Close  Total Trade Quantity  \\\n",
       "2034 2010-07-21  122.1  123.00  121.05  121.10  121.55                658666   \n",
       "2033 2010-07-22  120.3  122.00  120.25  120.75  120.90                293312   \n",
       "2032 2010-07-23  121.8  121.95  120.25  120.35  120.65                281312   \n",
       "2031 2010-07-26  120.1  121.00  117.10  117.10  117.60                658440   \n",
       "2030 2010-07-27  117.6  119.50  112.00  118.80  118.65                586100   \n",
       "\n",
       "      Turnover (Lacs)  \n",
       "2034           803.56  \n",
       "2033           355.17  \n",
       "2032           340.31  \n",
       "2031           780.01  \n",
       "2030           694.98  "
      ]
     },
     "execution_count": 16,
     "metadata": {},
     "output_type": "execute_result"
    }
   ],
   "source": [
    "d = d.sort_values('Date')\n",
    "d.head()"
   ]
  },
  {
   "cell_type": "code",
   "execution_count": 17,
   "id": "ef74a76d",
   "metadata": {},
   "outputs": [
    {
     "data": {
      "text/plain": [
       "Text(0, 0.5, 'Close')"
      ]
     },
     "execution_count": 17,
     "metadata": {},
     "output_type": "execute_result"
    },
    {
     "data": {
      "image/png": "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\n",
      "text/plain": [
       "<Figure size 648x432 with 1 Axes>"
      ]
     },
     "metadata": {
      "needs_background": "light"
     },
     "output_type": "display_data"
    }
   ],
   "source": [
    "plt.figure(figsize = (9,6))\n",
    "plt.title('Tata Stocks Closing Price')\n",
    "plt.plot(d['Close'],'g')\n",
    "plt.xlabel('Date',fontsize=15)\n",
    "plt.ylabel('Close',fontsize=15)"
   ]
  },
  {
   "cell_type": "code",
   "execution_count": 18,
   "id": "5be8e173",
   "metadata": {},
   "outputs": [
    {
     "data": {
      "text/plain": [
       "<AxesSubplot:>"
      ]
     },
     "execution_count": 18,
     "metadata": {},
     "output_type": "execute_result"
    },
    {
     "data": {
      "image/png": "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\n",
      "text/plain": [
       "<Figure size 720x504 with 2 Axes>"
      ]
     },
     "metadata": {
      "needs_background": "light"
     },
     "output_type": "display_data"
    }
   ],
   "source": [
    "dcorr = d.corr()\n",
    "top_corr_features = dcorr.index\n",
    "plt.figure(figsize=(10,7))\n",
    "sns.heatmap(d[top_corr_features].corr(), annot=True, cmap=\"YlGnBu\")"
   ]
  },
  {
   "cell_type": "markdown",
   "id": "980909d8",
   "metadata": {},
   "source": [
    "# MinMaxScaler\n",
    "From the original dataset, we can tell that each of our target value are in close proximity to one another. So, we will use MinMaxScaler to scale down all the target variables in the range of (0, 1) for the ease of computation."
   ]
  },
  {
   "cell_type": "code",
   "execution_count": 19,
   "id": "14cdfd7f",
   "metadata": {},
   "outputs": [],
   "source": [
    "data_close = d.reset_index()['Close']\n",
    "data_close.head()\n",
    "scaler = MinMaxScaler(feature_range = (0, 1))\n",
    "data_close = scaler.fit_transform(np.array(data_close).reshape(-1, 1))"
   ]
  },
  {
   "cell_type": "markdown",
   "id": "c4f1340d",
   "metadata": {},
   "source": [
    "# Splitting train, Test data"
   ]
  },
  {
   "cell_type": "code",
   "execution_count": 20,
   "id": "ffae17df",
   "metadata": {},
   "outputs": [],
   "source": [
    "train_size = int(len(data_close)*0.70)\n",
    "test_size = len(data_close) - train_size\n",
    "train, test = data_close[0 : train_size, :], data_close[train_size : len(data_close), :1]"
   ]
  },
  {
   "cell_type": "code",
   "execution_count": 21,
   "id": "ecd6c5ae",
   "metadata": {},
   "outputs": [],
   "source": [
    "def create_matrix(ds, time_step=1):\n",
    "    dataX, dataY = [], []\n",
    "    for i in range(len(ds)-time_step-1):\n",
    "        a = ds[i:(i+time_step),0]\n",
    "        dataX.append(a)\n",
    "        dataY.append(ds[i+time_step,0])\n",
    "    return np.array(dataX), np.array(dataY)"
   ]
  },
  {
   "cell_type": "code",
   "execution_count": 22,
   "id": "1edcb741",
   "metadata": {},
   "outputs": [
    {
     "name": "stdout",
     "output_type": "stream",
     "text": [
      "(1323, 100) (1323,)\n",
      "(510, 100) (510,)\n"
     ]
    }
   ],
   "source": [
    "step=100 \n",
    "X_train, y_train = create_matrix(train, step)\n",
    "X_test, y_test = create_matrix(test, step)\n",
    "print(X_train.shape, y_train.shape)\n",
    "print(X_test.shape, y_test.shape)"
   ]
  },
  {
   "cell_type": "code",
   "execution_count": 23,
   "id": "6e746c26",
   "metadata": {},
   "outputs": [],
   "source": [
    "X_train = X_train.reshape(X_train.shape[0], X_train.shape[1], 1)\n",
    "X_test = X_test.reshape(X_test.shape[0], X_test.shape[1], 1)"
   ]
  },
  {
   "cell_type": "markdown",
   "id": "6c5d43a7",
   "metadata": {},
   "source": [
    "# LSTM Model"
   ]
  },
  {
   "cell_type": "code",
   "execution_count": 24,
   "id": "d6f94195",
   "metadata": {},
   "outputs": [],
   "source": [
    "model = Sequential()\n",
    "model.add(LSTM(50, return_sequences=True,input_shape=(100,1)))\n",
    "model.add(LSTM(50,return_sequences=True))\n",
    "model.add(LSTM(50))\n",
    "model.add(Dense(1))\n",
    "model.compile(loss='mean_squared_error',optimizer='adam')"
   ]
  },
  {
   "cell_type": "code",
   "execution_count": 25,
   "id": "ff25047a",
   "metadata": {},
   "outputs": [
    {
     "name": "stdout",
     "output_type": "stream",
     "text": [
      "Model: \"sequential\"\n",
      "_________________________________________________________________\n",
      " Layer (type)                Output Shape              Param #   \n",
      "=================================================================\n",
      " lstm (LSTM)                 (None, 100, 50)           10400     \n",
      "                                                                 \n",
      " lstm_1 (LSTM)               (None, 100, 50)           20200     \n",
      "                                                                 \n",
      " lstm_2 (LSTM)               (None, 50)                20200     \n",
      "                                                                 \n",
      " dense (Dense)               (None, 1)                 51        \n",
      "                                                                 \n",
      "=================================================================\n",
      "Total params: 50851 (198.64 KB)\n",
      "Trainable params: 50851 (198.64 KB)\n",
      "Non-trainable params: 0 (0.00 Byte)\n",
      "_________________________________________________________________\n"
     ]
    }
   ],
   "source": [
    "model.summary()"
   ]
  },
  {
   "cell_type": "code",
   "execution_count": 26,
   "id": "3f1b31f0",
   "metadata": {},
   "outputs": [
    {
     "name": "stdout",
     "output_type": "stream",
     "text": [
      "Epoch 1/77\n",
      "19/19 [==============================] - 19s 466ms/step - loss: 0.0095 - val_loss: 0.0011\n",
      "Epoch 2/77\n",
      "19/19 [==============================] - 6s 312ms/step - loss: 0.0017 - val_loss: 0.0014\n",
      "Epoch 3/77\n",
      "19/19 [==============================] - 5s 242ms/step - loss: 8.8285e-04 - val_loss: 0.0011\n",
      "Epoch 4/77\n",
      "19/19 [==============================] - 6s 306ms/step - loss: 8.3423e-04 - val_loss: 0.0011\n",
      "Epoch 5/77\n",
      "19/19 [==============================] - 6s 313ms/step - loss: 7.5993e-04 - val_loss: 0.0010\n",
      "Epoch 6/77\n",
      "19/19 [==============================] - 6s 319ms/step - loss: 7.3531e-04 - val_loss: 9.5006e-04\n",
      "Epoch 7/77\n",
      "19/19 [==============================] - 6s 309ms/step - loss: 7.1640e-04 - val_loss: 9.8613e-04\n",
      "Epoch 8/77\n",
      "19/19 [==============================] - 6s 311ms/step - loss: 7.2356e-04 - val_loss: 9.1564e-04\n",
      "Epoch 9/77\n",
      "19/19 [==============================] - 6s 314ms/step - loss: 6.8091e-04 - val_loss: 8.4356e-04\n",
      "Epoch 10/77\n",
      "19/19 [==============================] - 6s 320ms/step - loss: 6.6459e-04 - val_loss: 8.2614e-04\n",
      "Epoch 11/77\n",
      "19/19 [==============================] - 6s 305ms/step - loss: 7.0201e-04 - val_loss: 7.6497e-04\n",
      "Epoch 12/77\n",
      "19/19 [==============================] - 6s 308ms/step - loss: 6.5266e-04 - val_loss: 7.3140e-04\n",
      "Epoch 13/77\n",
      "19/19 [==============================] - 6s 310ms/step - loss: 6.5251e-04 - val_loss: 6.9356e-04\n",
      "Epoch 14/77\n",
      "19/19 [==============================] - 6s 302ms/step - loss: 6.1944e-04 - val_loss: 6.7393e-04\n",
      "Epoch 15/77\n",
      "19/19 [==============================] - 6s 309ms/step - loss: 5.7875e-04 - val_loss: 6.5108e-04\n",
      "Epoch 16/77\n",
      "19/19 [==============================] - 6s 309ms/step - loss: 5.5924e-04 - val_loss: 6.1736e-04\n",
      "Epoch 17/77\n",
      "19/19 [==============================] - 5s 281ms/step - loss: 5.6897e-04 - val_loss: 7.1954e-04\n",
      "Epoch 18/77\n",
      "19/19 [==============================] - 6s 312ms/step - loss: 5.4055e-04 - val_loss: 6.1696e-04\n",
      "Epoch 19/77\n",
      "19/19 [==============================] - 6s 314ms/step - loss: 5.1237e-04 - val_loss: 5.5446e-04\n",
      "Epoch 20/77\n",
      "19/19 [==============================] - 6s 311ms/step - loss: 5.5356e-04 - val_loss: 5.4329e-04\n",
      "Epoch 21/77\n",
      "19/19 [==============================] - 6s 302ms/step - loss: 5.2250e-04 - val_loss: 5.3143e-04\n",
      "Epoch 22/77\n",
      "19/19 [==============================] - 6s 304ms/step - loss: 4.8748e-04 - val_loss: 5.0588e-04\n",
      "Epoch 23/77\n",
      "19/19 [==============================] - 6s 313ms/step - loss: 4.8471e-04 - val_loss: 4.8191e-04\n",
      "Epoch 24/77\n",
      "19/19 [==============================] - 6s 301ms/step - loss: 4.6727e-04 - val_loss: 4.5961e-04\n",
      "Epoch 25/77\n",
      "19/19 [==============================] - 6s 308ms/step - loss: 4.2883e-04 - val_loss: 4.4935e-04\n",
      "Epoch 26/77\n",
      "19/19 [==============================] - 6s 303ms/step - loss: 4.6596e-04 - val_loss: 4.9181e-04\n",
      "Epoch 27/77\n",
      "19/19 [==============================] - 6s 301ms/step - loss: 4.3406e-04 - val_loss: 4.1582e-04\n",
      "Epoch 28/77\n",
      "19/19 [==============================] - 6s 302ms/step - loss: 3.9079e-04 - val_loss: 3.8903e-04\n",
      "Epoch 29/77\n",
      "19/19 [==============================] - 6s 306ms/step - loss: 3.7504e-04 - val_loss: 4.6897e-04\n",
      "Epoch 30/77\n",
      "19/19 [==============================] - 6s 314ms/step - loss: 3.6913e-04 - val_loss: 3.5128e-04\n",
      "Epoch 31/77\n",
      "19/19 [==============================] - 6s 308ms/step - loss: 3.5813e-04 - val_loss: 3.3327e-04\n",
      "Epoch 32/77\n",
      "19/19 [==============================] - 6s 306ms/step - loss: 3.3935e-04 - val_loss: 3.3347e-04\n",
      "Epoch 33/77\n",
      "19/19 [==============================] - 6s 304ms/step - loss: 3.4492e-04 - val_loss: 3.0228e-04\n",
      "Epoch 34/77\n",
      "19/19 [==============================] - 6s 305ms/step - loss: 3.5085e-04 - val_loss: 3.5436e-04\n",
      "Epoch 35/77\n",
      "19/19 [==============================] - 6s 301ms/step - loss: 3.3567e-04 - val_loss: 2.8558e-04\n",
      "Epoch 36/77\n",
      "19/19 [==============================] - 6s 302ms/step - loss: 2.9934e-04 - val_loss: 2.9267e-04\n",
      "Epoch 37/77\n",
      "19/19 [==============================] - 6s 307ms/step - loss: 2.8918e-04 - val_loss: 2.5104e-04\n",
      "Epoch 38/77\n",
      "19/19 [==============================] - 6s 302ms/step - loss: 2.9202e-04 - val_loss: 3.3358e-04\n",
      "Epoch 39/77\n",
      "19/19 [==============================] - 6s 310ms/step - loss: 2.7510e-04 - val_loss: 2.7438e-04\n",
      "Epoch 40/77\n",
      "19/19 [==============================] - 6s 307ms/step - loss: 2.7610e-04 - val_loss: 2.2728e-04\n",
      "Epoch 41/77\n",
      "19/19 [==============================] - 6s 311ms/step - loss: 2.5894e-04 - val_loss: 2.1416e-04\n",
      "Epoch 42/77\n",
      "19/19 [==============================] - 6s 305ms/step - loss: 2.6017e-04 - val_loss: 2.2252e-04\n",
      "Epoch 43/77\n",
      "19/19 [==============================] - 6s 303ms/step - loss: 2.7456e-04 - val_loss: 2.4486e-04\n",
      "Epoch 44/77\n",
      "19/19 [==============================] - 6s 310ms/step - loss: 2.5814e-04 - val_loss: 2.2163e-04\n",
      "Epoch 45/77\n",
      "19/19 [==============================] - 6s 314ms/step - loss: 2.5313e-04 - val_loss: 2.5874e-04\n",
      "Epoch 46/77\n",
      "19/19 [==============================] - 6s 306ms/step - loss: 2.2761e-04 - val_loss: 2.4506e-04\n",
      "Epoch 47/77\n",
      "19/19 [==============================] - 6s 304ms/step - loss: 2.2094e-04 - val_loss: 1.8435e-04\n",
      "Epoch 48/77\n",
      "19/19 [==============================] - 6s 308ms/step - loss: 2.2782e-04 - val_loss: 1.8110e-04\n",
      "Epoch 49/77\n",
      "19/19 [==============================] - 6s 306ms/step - loss: 2.3707e-04 - val_loss: 1.8098e-04\n",
      "Epoch 50/77\n",
      "19/19 [==============================] - 6s 309ms/step - loss: 2.4272e-04 - val_loss: 2.0720e-04\n",
      "Epoch 51/77\n",
      "19/19 [==============================] - 6s 304ms/step - loss: 2.5417e-04 - val_loss: 1.7808e-04\n",
      "Epoch 52/77\n",
      "19/19 [==============================] - 6s 311ms/step - loss: 2.1095e-04 - val_loss: 1.7075e-04\n",
      "Epoch 53/77\n",
      "19/19 [==============================] - 6s 309ms/step - loss: 2.1497e-04 - val_loss: 2.2800e-04\n",
      "Epoch 54/77\n",
      "19/19 [==============================] - 6s 312ms/step - loss: 1.9633e-04 - val_loss: 1.5867e-04\n",
      "Epoch 55/77\n",
      "19/19 [==============================] - 6s 306ms/step - loss: 1.9405e-04 - val_loss: 1.5750e-04\n",
      "Epoch 56/77\n",
      "19/19 [==============================] - 6s 305ms/step - loss: 1.8291e-04 - val_loss: 1.5191e-04\n",
      "Epoch 57/77\n",
      "19/19 [==============================] - 6s 318ms/step - loss: 1.7643e-04 - val_loss: 1.4763e-04\n",
      "Epoch 58/77\n",
      "19/19 [==============================] - 6s 304ms/step - loss: 1.9593e-04 - val_loss: 1.5243e-04\n",
      "Epoch 59/77\n",
      "19/19 [==============================] - 6s 317ms/step - loss: 1.8519e-04 - val_loss: 1.4589e-04\n",
      "Epoch 60/77\n",
      "19/19 [==============================] - 6s 321ms/step - loss: 1.7811e-04 - val_loss: 1.4403e-04\n",
      "Epoch 61/77\n",
      "19/19 [==============================] - 6s 321ms/step - loss: 1.7554e-04 - val_loss: 1.5382e-04\n",
      "Epoch 62/77\n",
      "19/19 [==============================] - 6s 319ms/step - loss: 1.6123e-04 - val_loss: 1.5165e-04\n",
      "Epoch 63/77\n",
      "19/19 [==============================] - 6s 320ms/step - loss: 1.6884e-04 - val_loss: 1.7173e-04\n",
      "Epoch 64/77\n",
      "19/19 [==============================] - 6s 320ms/step - loss: 1.7212e-04 - val_loss: 1.5789e-04\n",
      "Epoch 65/77\n",
      "19/19 [==============================] - 6s 320ms/step - loss: 1.7205e-04 - val_loss: 1.3889e-04\n",
      "Epoch 66/77\n",
      "19/19 [==============================] - 6s 322ms/step - loss: 1.5475e-04 - val_loss: 1.3328e-04\n",
      "Epoch 67/77\n",
      "19/19 [==============================] - 6s 322ms/step - loss: 1.5964e-04 - val_loss: 1.3603e-04\n",
      "Epoch 68/77\n",
      "19/19 [==============================] - 6s 322ms/step - loss: 1.4715e-04 - val_loss: 1.3006e-04\n",
      "Epoch 69/77\n",
      "19/19 [==============================] - 6s 325ms/step - loss: 1.4506e-04 - val_loss: 1.3063e-04\n",
      "Epoch 70/77\n",
      "19/19 [==============================] - 6s 326ms/step - loss: 1.4956e-04 - val_loss: 1.2533e-04\n",
      "Epoch 71/77\n",
      "19/19 [==============================] - 6s 328ms/step - loss: 1.4491e-04 - val_loss: 1.2328e-04\n",
      "Epoch 72/77\n",
      "19/19 [==============================] - 6s 319ms/step - loss: 1.4210e-04 - val_loss: 1.3301e-04\n",
      "Epoch 73/77\n",
      "19/19 [==============================] - 6s 321ms/step - loss: 1.5111e-04 - val_loss: 1.2929e-04\n",
      "Epoch 74/77\n",
      "19/19 [==============================] - 6s 320ms/step - loss: 1.4872e-04 - val_loss: 1.6713e-04\n",
      "Epoch 75/77\n",
      "19/19 [==============================] - 6s 321ms/step - loss: 1.4340e-04 - val_loss: 1.2040e-04\n",
      "Epoch 76/77\n"
     ]
    },
    {
     "name": "stdout",
     "output_type": "stream",
     "text": [
      "19/19 [==============================] - 6s 324ms/step - loss: 1.5255e-04 - val_loss: 1.4013e-04\n",
      "Epoch 77/77\n",
      "19/19 [==============================] - 6s 328ms/step - loss: 1.9157e-04 - val_loss: 1.3463e-04\n"
     ]
    }
   ],
   "source": [
    "history = model.fit(X_train, y_train, validation_split=0.1, epochs=77, batch_size=64, verbose=1, shuffle=True).history"
   ]
  },
  {
   "cell_type": "code",
   "execution_count": 27,
   "id": "6d70b84d",
   "metadata": {},
   "outputs": [
    {
     "name": "stdout",
     "output_type": "stream",
     "text": [
      "42/42 [==============================] - 5s 64ms/step\n",
      "16/16 [==============================] - 1s 62ms/step\n"
     ]
    }
   ],
   "source": [
    "train_predict = model.predict(X_train)\n",
    "test_predict = model.predict(X_test)"
   ]
  },
  {
   "cell_type": "code",
   "execution_count": 28,
   "id": "38d681fa",
   "metadata": {},
   "outputs": [],
   "source": [
    "# Reversing the MinMax Scaler\n",
    "train_predict = scaler.inverse_transform(train_predict)\n",
    "test_predict = scaler.inverse_transform(test_predict)"
   ]
  },
  {
   "cell_type": "code",
   "execution_count": 29,
   "id": "bcf2e9a8",
   "metadata": {},
   "outputs": [
    {
     "data": {
      "text/plain": [
       "204.41385942429943"
      ]
     },
     "execution_count": 29,
     "metadata": {},
     "output_type": "execute_result"
    }
   ],
   "source": [
    "math.sqrt(mean_squared_error(y_train, train_predict))\n",
    "math.sqrt(mean_squared_error(y_test,test_predict))"
   ]
  },
  {
   "cell_type": "code",
   "execution_count": 30,
   "id": "4a09895d",
   "metadata": {},
   "outputs": [
    {
     "data": {
      "image/png": "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\n",
      "text/plain": [
       "<Figure size 432x288 with 1 Axes>"
      ]
     },
     "metadata": {
      "needs_background": "light"
     },
     "output_type": "display_data"
    }
   ],
   "source": [
    "### Visualise the Predictions\n",
    "look_back = 100\n",
    "train_num_pyredict_plot = np.empty_like(data_close)\n",
    "train_num_pyredict_plot[:, :] = np.nan\n",
    "train_num_pyredict_plot[look_back : len(train_predict) + look_back, :] = train_predict\n",
    "test_predict_plot = np.empty_like(data_close)\n",
    "test_predict_plot[:, :] = np.nan\n",
    "test_predict_plot[len(train_predict) + (look_back * 2) + 1 : len(data_close) - 1, :] = test_predict\n",
    "plt.plot(scaler.inverse_transform(data_close))\n",
    "plt.plot(train_num_pyredict_plot)\n",
    "plt.plot(test_predict_plot)\n",
    "plt.show()"
   ]
  },
  {
   "cell_type": "code",
   "execution_count": 31,
   "id": "090ad40e",
   "metadata": {},
   "outputs": [],
   "source": [
    "x_inum_pyut=test[307:].reshape(1, -1)\n",
    "x_inum_pyut.shape\n",
    "temp_inum_pyut = list(x_inum_pyut)\n",
    "temp_inum_pyut = temp_inum_pyut[0].tolist()\n",
    "temp_inum_pyut = list(x_inum_pyut)\n",
    "temp_inum_pyut = temp_inum_pyut[0].tolist()"
   ]
  },
  {
   "cell_type": "code",
   "execution_count": 32,
   "id": "c04e8455",
   "metadata": {},
   "outputs": [
    {
     "data": {
      "text/plain": [
       "[<matplotlib.lines.Line2D at 0x1eeb1891430>]"
      ]
     },
     "execution_count": 32,
     "metadata": {},
     "output_type": "execute_result"
    },
    {
     "data": {
      "image/png": "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\n",
      "text/plain": [
       "<Figure size 432x288 with 1 Axes>"
      ]
     },
     "metadata": {
      "needs_background": "light"
     },
     "output_type": "display_data"
    }
   ],
   "source": [
    "day_new = np.arange(1, 101)\n",
    "day_pred = np.arange(101, 131)\n",
    "plt.plot(day_new, scaler.inverse_transform(data_close[1935 : ]))"
   ]
  },
  {
   "cell_type": "code",
   "execution_count": null,
   "id": "9d1020e0",
   "metadata": {},
   "outputs": [],
   "source": []
  }
 ],
 "metadata": {
  "kernelspec": {
   "display_name": "Python 3 (ipykernel)",
   "language": "python",
   "name": "python3"
  },
  "language_info": {
   "codemirror_mode": {
    "name": "ipython",
    "version": 3
   },
   "file_extension": ".py",
   "mimetype": "text/x-python",
   "name": "python",
   "nbconvert_exporter": "python",
   "pygments_lexer": "ipython3",
   "version": "3.9.12"
  }
 },
 "nbformat": 4,
 "nbformat_minor": 5
}
